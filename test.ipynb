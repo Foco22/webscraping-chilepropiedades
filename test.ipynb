{
 "cells": [
  {
   "cell_type": "code",
   "execution_count": 5,
   "metadata": {},
   "outputs": [
    {
     "data": {
      "text/plain": [
       "500"
      ]
     },
     "execution_count": 5,
     "metadata": {},
     "output_type": "execute_result"
    }
   ],
   "source": [
    "import requests\n",
    "\n",
    "url = \"http://localhost:8000/webscrapping\"\n",
    "data = {\n",
    "    \"region\": \"some_region\",\n",
    "    \"type_searching\": \"arriendo-mensual\",\n",
    "    \"type_house\": \"departamento\",\n",
    "    \"min_publish_date\": \"2024-05-23\",\n",
    "    \"max_publish_date\": \"2024-05-24\"\n",
    "}\n",
    "\n",
    "response = requests.post(url, json=data)\n",
    "response.status_code\n",
    "#print(response.json())\n"
   ]
  },
  {
   "cell_type": "code",
   "execution_count": null,
   "metadata": {},
   "outputs": [],
   "source": []
  }
 ],
 "metadata": {
  "kernelspec": {
   "display_name": "llama",
   "language": "python",
   "name": "python3"
  },
  "language_info": {
   "codemirror_mode": {
    "name": "ipython",
    "version": 3
   },
   "file_extension": ".py",
   "mimetype": "text/x-python",
   "name": "python",
   "nbconvert_exporter": "python",
   "pygments_lexer": "ipython3",
   "version": "3.9.19"
  }
 },
 "nbformat": 4,
 "nbformat_minor": 2
}
